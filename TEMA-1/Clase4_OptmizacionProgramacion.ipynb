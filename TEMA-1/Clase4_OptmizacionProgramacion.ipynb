{
 "cells": [
  {
   "attachments": {},
   "cell_type": "markdown",
   "metadata": {},
   "source": [
    "___\n",
    "<img style=\"float: right; margin: 0px 0px 15px 15px;\" src=\"https://i.pinimg.com/originals/64/2b/4a/642b4a4eb254da80899e5700633aa789.jpg\" width=\"500px\" height=\"200px\" />\n",
    "\n",
    "# Actualización anaconda\n",
    "\n",
    "## 0. Abrir terminal\n",
    "Abrir una nueva terminal ya sea usando `anaconda prompt` o cualquier otra terminal. Verificar versión de python ejecutando el comando \n",
    "```\n",
    "conda info\n",
    "```\n",
    "Si la versión de python que te arroja el comando anterior es `3.7.x` entonces vamos a proceder a desinstalar la versión de anaconda que tenemos instalada. De lo contrario ir al paso **2**.\n",
    "\n",
    "## 1. Desinstalar anaconda\n",
    "\n",
    "### - Usuarios mac o linux\n",
    "1. Eliminar todo el directorio de instalación de anaconda tipicamente está ubicado en la siguiente dirección:\n",
    "```\n",
    "rm -rf ~/anaconda3\n",
    "```\n",
    "2. Elimine los siguientes archivos y directorios ocultos, que pueden haber sido creados en el directorio de inicio. Para ello use el siguiente comando:\n",
    "```\n",
    "rm -rf ~/.condarc ~/.conda ~/.continuum\n",
    "```\n",
    "\n",
    "### - Usuarios windows\n",
    "En la carpeta donde instaló Anaconda (Ejemplo: `C:\\Users\\username\\Anaconda3`) debe haber un ejecutable llamado Uninstall-Anaconda.exe. Haga doble clic en este archivo para comenzar a desinstalar Anaconda.\n",
    "\n",
    "\n",
    "## 2. Descargar última versión de Anaconda desde su página\n",
    "- Ir a el siguiente enlace y en la parte final de dicha página encontrar los archivos a descargar https://www.anaconda.com/products/individual.\n",
    "![image.png](attachment:4986b1d5-4858-4738-8760-9f34f8a6b360.png)\n",
    "\n",
    "- Luego de descargado el archivo de instalación, ejecutarlo para instalar la última versión de anaconda.\n",
    "\n",
    "- Finalmente actualice anaconda a la última versión disponible. Para ello ejecute el siguiente comando\n",
    "```\n",
    "conda update -n base -c defaults conda\n",
    "```\n",
    "___"
   ]
  },
  {
   "cell_type": "markdown",
   "metadata": {},
   "source": [
    "# Optimización de código "
   ]
  },
  {
   "cell_type": "code",
   "execution_count": 1,
   "metadata": {},
   "outputs": [],
   "source": [
    "# Librerías a usar en todo el programa\n",
    "import numpy as np\n",
    "import time,math \n",
    "import matplotlib.pyplot as plt"
   ]
  },
  {
   "cell_type": "markdown",
   "metadata": {},
   "source": [
    "## Formas de optimizar el código en las `funciones` y los ciclos `for`"
   ]
  },
  {
   "cell_type": "markdown",
   "metadata": {},
   "source": [
    "Para ilustrar el método usemos el siguiente ejemplo: Muestre en una lista cada una de las letras de la siguiente variable `oldlist = 'Este es el texto de ejemplo'` en letra mayúscula."
   ]
  },
  {
   "cell_type": "code",
   "execution_count": 2,
   "metadata": {},
   "outputs": [],
   "source": [
    "words = \"\"\"\n",
    " In 1973, the Chicago Board of Options Exchange begun trading options in exchanges, although previously options \n",
    " had been regularly traded by financial institutions in over the counter markets. In the same year, Black and \n",
    " Scholes (1973), and Merton (1973), published their seminal papers on the theory of option pricing. Since then \n",
    " the growth of the field of derivative securities has been phenomenal. In recognition of their pioneering and \n",
    " fundamental contribution to option valuation, Scholes and Merton received in 1997 the Award of the Nobel Prize \n",
    " in Economics. Unfortunately, Black was unable to receive the award since he had already passed away.\n",
    "\n",
    "In essence, the Black-Scholes model states that by continuously adjusting the proportions of stocks and options \n",
    "in a portfolio, the investor can create a riskless hedge portfolio, where all market risks are eliminated. The \n",
    "ability to construct such a portfolio relies on the assumptions of continuous trading and continuous sample paths\n",
    "of the asset price. In an efficient market with no riskless arbitrage opportunities, any portfolio with a zero \n",
    "market risk must have an expected rate of return equal to the risk-free interest rate. This approach led to the \n",
    "differential equation, known in physics as the \"heat equation\". Its solution is the Black-Scholes formula for \n",
    "pricing European options on non-dividend paying stocks \n",
    "\"\"\""
   ]
  },
  {
   "cell_type": "code",
   "execution_count": 5,
   "metadata": {},
   "outputs": [
    {
     "name": "stdout",
     "output_type": "stream",
     "text": [
      "125 µs ± 3.02 µs per loop (mean ± std. dev. of 7 runs, 10,000 loops each)\n"
     ]
    }
   ],
   "source": [
    "%%timeit\n",
    "# Solucionarlo acá\n",
    "sol1 = []\n",
    "for w in words:\n",
    "    sol1.append(w.upper())"
   ]
  },
  {
   "cell_type": "code",
   "execution_count": 8,
   "metadata": {},
   "outputs": [
    {
     "data": {
      "text/plain": [
       "<function list.append(object, /)>"
      ]
     },
     "execution_count": 8,
     "metadata": {},
     "output_type": "execute_result"
    }
   ],
   "source": [
    "sol1.append"
   ]
  },
  {
   "cell_type": "code",
   "execution_count": 10,
   "metadata": {},
   "outputs": [
    {
     "data": {
      "text/plain": [
       "<method 'upper' of 'str' objects>"
      ]
     },
     "execution_count": 10,
     "metadata": {},
     "output_type": "execute_result"
    }
   ],
   "source": [
    "str."
   ]
  },
  {
   "cell_type": "markdown",
   "metadata": {},
   "source": [
    "- **Evitando puntos ...**\n",
    " \n",
    "Suponemos que no puedes usar la función `map` o una compresión de listas. Puede estar atascado con el bucle for. El ejemplo de bucle for tiene otra ineficiencia. Tanto `newlist.append ` como `word.upper` son referencias de funciones que se reevalúan cada vez a través del ciclo. El bucle original puede ser reemplazado por:"
   ]
  },
  {
   "cell_type": "code",
   "execution_count": 11,
   "metadata": {},
   "outputs": [
    {
     "name": "stdout",
     "output_type": "stream",
     "text": [
      "107 µs ± 2.63 µs per loop (mean ± std. dev. of 7 runs, 10,000 loops each)\n"
     ]
    }
   ],
   "source": [
    "%%timeit\n",
    "# Almacenando funciones en variables (eliminar \".\" en las iteraciones de los for)\n",
    "sol2 = []\n",
    "append = sol2.append\n",
    "upper = str.upper\n",
    "for w in words:\n",
    "    append(upper(w))"
   ]
  },
  {
   "cell_type": "markdown",
   "metadata": {},
   "source": [
    "- **Variables locales.**\n",
    "\n",
    "La aceleración final disponible para nosotros para la versión que no es un `map` del bucle for, es usar variables locales siempre que sea posible. Si el ciclo anterior se convierte como una función, las variables append y upper se convierten en locales. Python accede a las variables locales de forma mucho más eficiente que las variables globales."
   ]
  },
  {
   "cell_type": "code",
   "execution_count": 12,
   "metadata": {},
   "outputs": [],
   "source": [
    "# Generación de función para utilizar variables locales\n",
    "def append_words(words:str) -> list: \n",
    "    sol3 = []\n",
    "    append = sol3.append\n",
    "    upper = str.upper\n",
    "    for w in words:\n",
    "        append(upper(w))\n",
    "    return sol3"
   ]
  },
  {
   "cell_type": "code",
   "execution_count": 13,
   "metadata": {},
   "outputs": [
    {
     "name": "stdout",
     "output_type": "stream",
     "text": [
      "105 µs ± 3.79 µs per loop (mean ± std. dev. of 7 runs, 10,000 loops each)\n"
     ]
    }
   ],
   "source": [
    "%%timeit\n",
    "\n",
    "sol3 = append_words(words)"
   ]
  },
  {
   "cell_type": "markdown",
   "metadata": {},
   "source": [
    "## Funciones lambda\n",
    "\n",
    "Las funciones `lambda` o funciones anónimas, son un tipo de función que introduce python en su estructura, en donde se usa frecuentemente en dos situaciones principales: (a) si la función es bastante simple, y (b) si solo se usará una vez. Las funciones de Lambda se pueden usar donde sea que se requieran objetos de función\n",
    "\n",
    "Python utiliza dos formas distintas de crear funciones: usando la sintáxis `def` y `lambda`. A continuación se muestran dos ejemplos de los usos de estas dos sintaxis:\n",
    "\n",
    "#### Ejemplo raiz cuadrada"
   ]
  },
  {
   "cell_type": "code",
   "execution_count": 17,
   "metadata": {},
   "outputs": [
    {
     "name": "stdout",
     "output_type": "stream",
     "text": [
      "Usando la sintáxis def obtenemos: 6.48074069840786\n",
      "Usando la sintáxis lambda obtenemos: 6.48074069840786\n"
     ]
    }
   ],
   "source": [
    "###### Usando la sintáxis def\n",
    "def square_root1(x):\n",
    "    return np.sqrt(x)\n",
    "\n",
    "###### Usando la sintaxis lambda\n",
    "square_root2 = lambda x: np.sqrt(x)\n",
    "\n",
    "print('Usando la sintáxis def obtenemos:',square_root1(42))\n",
    "print('Usando la sintáxis lambda obtenemos:',square_root2(42))"
   ]
  },
  {
   "cell_type": "code",
   "execution_count": 19,
   "metadata": {
    "scrolled": true
   },
   "outputs": [
    {
     "data": {
      "text/plain": [
       "5"
      ]
     },
     "execution_count": 19,
     "metadata": {},
     "output_type": "execute_result"
    }
   ],
   "source": [
    "square_root2 = 5\n",
    "square_root2"
   ]
  },
  {
   "cell_type": "markdown",
   "metadata": {},
   "source": [
    "Normalmente, las funciones se crean para uno de dos propósitos: **(a) reducir la duplicación de código, o (b) modularizar el código.**\n",
    "\n",
    "Si tienes una función que es usada una única vez, no necesitas darle un nombre a la función. Puede ser 'anónima' y además puede definirla justo en el lugar donde desea usarlo. Ahí es donde `lambda` es útil."
   ]
  },
  {
   "cell_type": "markdown",
   "metadata": {},
   "source": [
    "## ¿Porqué el uso de la función lambda es en ocasiones confuso?\n",
    "\n",
    "**Primero:** Lambda es confuso porque: el requisito de que una lambda **pueda tomar solo una expresión** plantea la pregunta: ¿Qué es una expresión?. En Python, ¿cuál es la diferencia entre una expresión y una declaración (statement)?. Una buena respuesta es que una <font color=red> expresión devuelve (o evalúa) un valor</font>, mientras que una declaración no.\n",
    "\n",
    "Una pregunta que resulta entonces, es **¿qué tipo de cosas puedo, y no puedo, poner en una función lambda?** Y la respuesta a esa pregunta es básicamente\n",
    "   - Si no devuelve un valor, no es una expresión y no se puede poner en una lambda.\n",
    "   - Si puede imaginarlo en una declaración de asignación, en el lado derecho del signo igual, es una expresión y puede colocarse en una lambda.\n",
    "\n",
    "Usando estas reglas podríamos entonces llegar a las siguientes conclusiones:\n",
    "\n",
    "*1*. Los enunciados de asignación no se pueden usar en lambda. En Python, las declaraciones de asignación no devuelven nada, ni siquiera Ninguno (nulo).\n",
    "     \n",
    "**Ejemplo**"
   ]
  },
  {
   "cell_type": "code",
   "execution_count": 22,
   "metadata": {},
   "outputs": [
    {
     "data": {
      "text/plain": [
       "True"
      ]
     },
     "execution_count": 22,
     "metadata": {},
     "output_type": "execute_result"
    }
   ],
   "source": [
    "# Asignaciones en una función lambda\n",
    "f1 = lambda x: x == 1\n",
    "f1(1)"
   ]
  },
  {
   "cell_type": "markdown",
   "metadata": {},
   "source": [
    "*2*. Cosas simples como operaciones matemáticas, operaciones de cadenas, comprensión de listas, etc. están bien en una lambda."
   ]
  },
  {
   "cell_type": "code",
   "execution_count": 25,
   "metadata": {},
   "outputs": [
    {
     "data": {
      "text/plain": [
       "array([5, 7, 9])"
      ]
     },
     "execution_count": 25,
     "metadata": {},
     "output_type": "execute_result"
    }
   ],
   "source": [
    "# Ejemplo\n",
    "########## Sumar elemento a elemento de una lista\n",
    "suma = lambda a,b: a+b\n",
    "l1 = [1 ,2, 3]\n",
    "l2 = [4, 5, 6]\n",
    "\n",
    "# 1. Usando for\n",
    "s1 = []\n",
    "for i in range(len(l1)):\n",
    "    s1.append(suma(l1[i], l2[i]))\n",
    "s1\n",
    "\n",
    "# 2. Usando compresión de listas\n",
    "s2 = [suma(l1[i], l2[i]) for i in range(len(l1))]\n",
    "s2\n",
    "\n",
    "########## Obtener el mismo resultado usando vectores\n",
    "s3 = np.array(l1) + np.array(l2)\n",
    "s3"
   ]
  },
  {
   "cell_type": "markdown",
   "metadata": {},
   "source": [
    "*3*. Las llamadas a funciones son expresiones. Está bien colocar una llamada de función en un lambda y pasar argumentos a esa función. Al hacerlo, envuelve la llamada a la función (argumentos y todo) dentro de una nueva función anónima. Incluso la función `print` puede ser usada dentro de una función lambda.\n",
    "\n",
    "- **Ejemplo** (compresión de listas)"
   ]
  },
  {
   "cell_type": "code",
   "execution_count": 28,
   "metadata": {},
   "outputs": [
    {
     "name": "stdout",
     "output_type": "stream",
     "text": [
      "1\n",
      "None\n"
     ]
    }
   ],
   "source": [
    "a = print('1')\n",
    "print(a)"
   ]
  },
  {
   "cell_type": "code",
   "execution_count": 36,
   "metadata": {},
   "outputs": [
    {
     "name": "stdout",
     "output_type": "stream",
     "text": [
      "HOLA GRUPO ES LA PRUEBA\n",
      "None\n",
      "HOLA GRUPO ES LA PRUEBA\n"
     ]
    }
   ],
   "source": [
    "palabra = 'hola grupo es la prueba'\n",
    "\n",
    "# Poner print dentro de una lambda, que regrese la letra mayúscula del argumento\n",
    "funUpper = lambda x: print(x.upper())\n",
    "\n",
    "# Poner dentro de una lambda una función que regrese la letra mayúscula\n",
    "funUpper2 = lambda x: x.upper()\n",
    "\n",
    "print(funUpper(palabra))\n",
    "print(funUpper2(palabra))"
   ]
  },
  {
   "cell_type": "markdown",
   "metadata": {},
   "source": [
    "- **Ejemplo** (funciones anidadas)"
   ]
  },
  {
   "cell_type": "code",
   "execution_count": 40,
   "metadata": {},
   "outputs": [
    {
     "name": "stdout",
     "output_type": "stream",
     "text": [
      "la suma de 30.58 y 4.2 a la potencia 10 es: 2589976220384792.5\n"
     ]
    }
   ],
   "source": [
    "def suma(a,b):\n",
    "    return a+b\n",
    "\n",
    "# función anónima\n",
    "suma_potencia = lambda n,a,b: \\\n",
    "                print(f'la suma de {a} y {b} a la potencia {n} es: {suma(a, b)**n:.1f}')\n",
    "suma_potencia(10,30.58,4.2)"
   ]
  },
  {
   "cell_type": "markdown",
   "metadata": {},
   "source": [
    "*4*. Las expresiones condicionales, son expresiones (y no simplemente una sintaxis diferente para una instrucción if / else). Devuelven un valor y se pueden usar en una lambda\n",
    "   \n",
    "**Ejemplo**"
   ]
  },
  {
   "cell_type": "code",
   "execution_count": 54,
   "metadata": {},
   "outputs": [
    {
     "data": {
      "text/plain": [
       "(['small', 'small', 'big', 'small'], ['small', 'small', 'big', 'small'])"
      ]
     },
     "execution_count": 54,
     "metadata": {},
     "output_type": "execute_result"
    }
   ],
   "source": [
    "# Probar estas dos funciones\n",
    "\n",
    "# Escribir función anónima que regrese True si x>y de lo contrario False\n",
    "some_condition = lambda x, y: True if x > y else False\n",
    "\n",
    "# Utilizar la función anterior como condición en una lambda\n",
    "f1 = lambda x, y: x if some_condition(x, y) else y\n",
    "\n",
    "# Crear una función que regrese 'big' si x>100 de lo contrario 'small'\n",
    "f2 = lambda x: 'big' if x > 100 else 'small'\n",
    "\n",
    "# Verificar f1 y f2 en la siguiente lista\n",
    "l1 = [100,25,200,5]\n",
    "\n",
    "# 1. Usando for\n",
    "fun1 = []\n",
    "fun2 = []\n",
    "for i in range(len(l1)):\n",
    "    if i != len(l1) - 1:\n",
    "        fun1.append(f1(l1[i], l1[i+1]))\n",
    "\n",
    "    fun2.append(f2(l1[i]))\n",
    "\n",
    "# 2. Usando compresión de listas\n",
    "com1 = [f1(l1[i], l1[i+1]) for i in range(len(l1)) if i != len(l1) - 1]\n",
    "com2 = [f2(l1[i]) for i in range(len(l1))]\n",
    "com2, fun2"
   ]
  },
  {
   "cell_type": "markdown",
   "metadata": {},
   "source": [
    "**Segundo:** Lambda es confuso porque: lambda generalmente se describe como una herramienta para crear funciones, pero una especificación lambda no contiene una declaración de **return**.\n",
    "\n",
    "La declaración de *return* está, en cierto sentido, implícita en una lambda. Como una especificación lambda debe contener solo una expresión, y esa expresión debe devolver un valor, una función anónima creada por lambda devuelve implícitamente el valor devuelto por la expresión. Esto tiene perfecto sentido. Aún así, la falta de una declaración de *return* explícita es, creo, parte de lo que hace que sea difícil asimilar lambda, o al menos, difícil asimilarlo rápidamente.\n",
    "\n",
    "**Ejemplo de combinación de los dos tipos de funciones**"
   ]
  },
  {
   "cell_type": "code",
   "execution_count": 56,
   "metadata": {},
   "outputs": [
    {
     "name": "stdout",
     "output_type": "stream",
     "text": [
      "Incrementar en 0 unidades 22 \n",
      "Incrementar en 5 unidades 27\n"
     ]
    },
    {
     "data": {
      "text/plain": [
       "23"
      ]
     },
     "execution_count": 56,
     "metadata": {},
     "output_type": "execute_result"
    }
   ],
   "source": [
    "# Crear una función que regrese una función anónima que sea un incremento de cierto valor n (entrada)\n",
    "def make_incrementor(n):\n",
    "    return lambda x: x + n\n",
    "\n",
    "f = make_incrementor(22)\n",
    "i1 = 0; i2 = 5\n",
    "\n",
    "print('Incrementar en %d unidades'% i1, f(i1),'\\nIncrementar en %d unidades' %i2, f(i2))\n",
    "f(100)\n",
    "f(1)"
   ]
  },
  {
   "cell_type": "markdown",
   "metadata": {},
   "source": [
    "## - Función map()\n",
    "\n",
    "Puedes pensar en la función `map()` como un `for` movido al código C. La única restricción es que el 'cuerpo de bucle' de la función `map` debe ser una llamada a función. Además del beneficio sintáctico de la compresión de listas, a menudo son tan rápidas o más rápidas que el uso equivalente del `map`. La sintaxis de la función es:\n",
    "\n",
    "> `r = map(función, secuencia)`\n",
    "\n",
    "Con Python 3, map () devuelve un iterador, si queremos obtener los valores numéricos debemos usar compresión de listas o el comando `list`.\n",
    "\n",
    "**Ejemplos**"
   ]
  },
  {
   "cell_type": "code",
   "execution_count": 62,
   "metadata": {},
   "outputs": [
    {
     "name": "stdout",
     "output_type": "stream",
     "text": [
      "for clásico  [102.56, 97.7, 99.14, 100.03999999999999]\n",
      "compresión   [102.56, 97.7, 99.14, 100.03999999999999]\n",
      "usando map   [102.56, 97.7, 99.14, 100.03999999999999]\n",
      "usando vectores  [102.56  97.7   99.14 100.04]\n"
     ]
    }
   ],
   "source": [
    "Celsius = [39.2, 36.5, 37.3, 37.8]\n",
    "\n",
    "# Convierta las temperaturas en °C a frados fahrenheit --> eq = float(9)/5)*i + 32\n",
    "celsius2fahrenheit = lambda t: (float(9)/5)*t + 32\n",
    "\n",
    "# 1. Usando llenado de listas\n",
    "s1 = []\n",
    "for t in Celsius:\n",
    "    s1.append(celsius2fahrenheit(t))\n",
    "\n",
    "print('for clásico ', s1)\n",
    "    \n",
    "# 2. Usando funciones y compresión de listas\n",
    "s2 = [celsius2fahrenheit(t) for t in Celsius]\n",
    "print('compresión  ', s2)\n",
    "\n",
    "# 3. Usando funciones y funciones map\n",
    "s3 = list(map(celsius2fahrenheit, Celsius))\n",
    "print('usando map  ', s3)\n",
    "\n",
    "# 4. Usando vectores\n",
    "s4 = celsius2fahrenheit(np.array(Celsius))\n",
    "print('usando vectores ', s4)\n",
    "\n",
    "# Comparar\n"
   ]
  },
  {
   "cell_type": "code",
   "execution_count": 16,
   "metadata": {},
   "outputs": [
    {
     "name": "stdout",
     "output_type": "stream",
     "text": [
      "[102.56, 97.7, 99.14, 100.03999999999999]\n",
      "[39.2, 36.5, 37.300000000000004, 37.8]\n"
     ]
    }
   ],
   "source": [
    "# Ahora realizar el proceso inverso de fahrenheit a °C --> eq=float(5)/9)*(x-32)\n",
    "Celsius = [39.2, 36.5, 37.3, 37.8]\n",
    "\n"
   ]
  },
  {
   "cell_type": "code",
   "execution_count": 65,
   "metadata": {},
   "outputs": [],
   "source": [
    "# Tres métodos diferentes para aplicar una función a datos de una lista\n",
    "oldlist = 'Este es el texto de ejemplo'\n",
    "\n",
    "tiempo = []"
   ]
  },
  {
   "cell_type": "code",
   "execution_count": 66,
   "metadata": {},
   "outputs": [
    {
     "name": "stdout",
     "output_type": "stream",
     "text": [
      "2.69 µs ± 101 ns per loop (mean ± std. dev. of 7 runs, 100,000 loops each)\n"
     ]
    }
   ],
   "source": [
    "%%timeit\n",
    "############ Agregando letras mayúsculas a una lista\n",
    "newlist1 = []\n",
    "for w in oldlist:\n",
    "    newlist1.append(w.upper())"
   ]
  },
  {
   "cell_type": "code",
   "execution_count": 67,
   "metadata": {},
   "outputs": [
    {
     "name": "stdout",
     "output_type": "stream",
     "text": [
      "1.44 µs ± 39.7 ns per loop (mean ± std. dev. of 7 runs, 1,000,000 loops each)\n"
     ]
    }
   ],
   "source": [
    "%%timeit\n",
    "############ Usando la función map\n",
    "newlist2 = list(map(str.upper, oldlist))"
   ]
  },
  {
   "cell_type": "code",
   "execution_count": 68,
   "metadata": {},
   "outputs": [
    {
     "name": "stdout",
     "output_type": "stream",
     "text": [
      "2.22 µs ± 144 ns per loop (mean ± std. dev. of 7 runs, 100,000 loops each)\n"
     ]
    }
   ],
   "source": [
    "%%timeit\n",
    "############ Usando compresión de listas\n",
    "newlist3 = [w.upper() for w in oldlist]"
   ]
  },
  {
   "cell_type": "code",
   "execution_count": null,
   "metadata": {},
   "outputs": [],
   "source": [
    "print('Con el método de agregar datos a la lista:\\n',newlist1)\n",
    "print('Usando la funcion map:\\n',newlist2)\n",
    "print('U"
   ]
  },
  {
   "cell_type": "code",
   "execution_count": 64,
   "metadata": {
    "scrolled": true
   },
   "outputs": [
    {
     "name": "stdout",
     "output_type": "stream",
     "text": [
      "Con el método de agregar datos a la lista:\n",
      " ['E', 'S', 'T', 'E', ' ', 'E', 'S', ' ', 'E', 'L', ' ', 'T', 'E', 'X', 'T', 'O', ' ', 'D', 'E', ' ', 'E', 'J', 'E', 'M', 'P', 'L', 'O']\n",
      "Usando la funcion map:\n",
      " ['E', 'S', 'T', 'E', ' ', 'E', 'S', ' ', 'E', 'L', ' ', 'T', 'E', 'X', 'T', 'O', ' ', 'D', 'E', ' ', 'E', 'J', 'E', 'M', 'P', 'L', 'O']\n",
      "Usando compresión de listas:\n",
      " ['E', 'S', 'T', 'E', ' ', 'E', 'S', ' ', 'E', 'L', ' ', 'T', 'E', 'X', 'T', 'O', ' ', 'D', 'E', ' ', 'E', 'J', 'E', 'M', 'P', 'L', 'O']\n"
     ]
    }
   ],
   "source": [
    "sando compresión de listas:\\n', newlist3)"
   ]
  },
  {
   "cell_type": "markdown",
   "metadata": {},
   "source": [
    "- Mientras todavía utilizamos `lamda` como una función, podemos tener una lista de funciones como una secuencia:\n",
    "\n",
    "**Ejemplo a)**: Construyamos un programa usando `map`, compresión de listas y estructura `for` típica para evaluar un vector de tamaño `N` para una lista de funciones"
   ]
  },
  {
   "cell_type": "code",
   "execution_count": 76,
   "metadata": {
    "scrolled": true
   },
   "outputs": [
    {
     "name": "stdout",
     "output_type": "stream",
     "text": [
      "f1 =  [[0.0, 0.7853981633974483, 1.1071487177940906], [1.0, 0.5403023058681398, -0.4161468365471424], [0.0, 0.8414709848078965, 0.9092974268256817]]\n",
      "f2 =  [array([0.        , 0.78539816, 1.10714872]), array([ 1.        ,  0.54030231, -0.41614684]), array([0.        , 0.84147098, 0.90929743])]\n",
      "f3 =  [array([0.        , 0.78539816, 1.10714872]), array([ 1.        ,  0.54030231, -0.41614684]), array([0.        , 0.84147098, 0.90929743])]\n",
      "f4 =  [array([0.        , 0.78539816, 1.10714872]), array([ 1.        ,  0.54030231, -0.41614684]), array([0.        , 0.84147098, 0.90929743])]\n"
     ]
    }
   ],
   "source": [
    "# Escribir el programa acá \n",
    "import math\n",
    "\n",
    "N = 3\n",
    "fns_np = [np.arctan, np.cos, np.sin]\n",
    "fns_math = [math.atan, math.cos, math.sin]\n",
    "\n",
    "xs = np.arange(N)\n",
    "\n",
    "# 1.1 For típico (fns_math)\n",
    "call = []\n",
    "for f in fns_math:\n",
    "    aux = []\n",
    "    for i in xs:\n",
    "        aux.append(f(i))\n",
    "    call.append(aux)\n",
    "    \n",
    "# 1.2 For típico (fns_np)\n",
    "call2 = []\n",
    "for f in fns_np:\n",
    "    call2.append(f(xs))\n",
    "\n",
    "# 2. Compresión de listas\n",
    "call3 = [f(xs) for f in fns_np]\n",
    "\n",
    "# 3. Funciones map\n",
    "call4 = list(map(lambda fi: fi(xs), fns_np))\n",
    "\n",
    "print('f1 = ',call)\n",
    "print('f2 = ',call2)\n",
    "print('f3 = ',call3)\n",
    "print('f4 = ',call4)\n"
   ]
  },
  {
   "cell_type": "markdown",
   "metadata": {},
   "source": [
    "**Ejemplo b)**"
   ]
  },
  {
   "cell_type": "code",
   "execution_count": 16,
   "metadata": {},
   "outputs": [
    {
     "name": "stdout",
     "output_type": "stream",
     "text": [
      "[[0, 0], [1, 1], [4, 8], [9, 27], [16, 64], [25, 125]]\n",
      "[[0, 0], [1, 1], [4, 8], [9, 27], [16, 64], [25, 125]]\n",
      "[[0, 0], [1, 1], [4, 8], [9, 27], [16, 64], [25, 125]]\n"
     ]
    }
   ],
   "source": [
    "def square(x):\n",
    "        return (x**2)\n",
    "def cube(x):\n",
    "        return (x**3)\n",
    "\n",
    "funcs = [square, cube]\n",
    "\n",
    "# Combinar map y compresión de listas para evaluar números 0-5 de cada función en cada iteración \n",
    "N = 6\n",
    "\n",
    "# 1. For clásico (método a olvidar)\n",
    "\n",
    "print(value1)\n",
    "\n",
    "# 2. Función map anidada\n",
    "value2 = \n",
    "print(value2)\n",
    "\n",
    "# 3. Compresión de listas anidadas\n",
    "values3 = \n",
    "print(values3)"
   ]
  },
  {
   "cell_type": "markdown",
   "metadata": {},
   "source": [
    "-  Además de eso, la función `map` se puede usar de manera más avanzada. Por ejemplo, dados múltiples argumentos de secuencia, envía elementos tomados de secuencias en paralelo como argumentos distintos a la función:\n",
    "\n",
    "**Ejemplo**"
   ]
  },
  {
   "cell_type": "code",
   "execution_count": 19,
   "metadata": {
    "scrolled": true
   },
   "outputs": [
    {
     "name": "stdout",
     "output_type": "stream",
     "text": [
      "Estos son los resultados de las potencias: 1024 243 177147 16777216\n",
      "Estos son los resultados usando map: [1024, 243, 177147, 16777216]\n"
     ]
    },
    {
     "data": {
      "text/plain": [
       "[[1024, 32, 2048, 4096],\n",
       " [59049, 243, 177147, 531441],\n",
       " [59049, 243, 177147, 531441],\n",
       " [1048576, 1024, 4194304, 16777216]]"
      ]
     },
     "execution_count": 19,
     "metadata": {},
     "output_type": "execute_result"
    }
   ],
   "source": [
    "p1 = pow(2,10)\n",
    "p2 = pow(3,5)\n",
    "p3 = pow(3,11)\n",
    "p4 = pow(4,12)\n",
    "print('Estos son los resultados de las potencias:',p1,p2,p3,p4)\n",
    "\n",
    "# 1. Replicar lo anterior usando funciones map\n",
    "\n",
    "numero = [2, 3, 3, 4]\n",
    "potencias = [10, 5, 11, 12]\n",
    "\n",
    "pot_map = \n",
    "\n",
    "print('Estos son los resultados usando map:',pot_map)\n",
    "\n",
    "# 2. Ahora utilizar la función map para elever cada número a todas las potencias (2**10, 2**5,...,4**12)\n",
    "# Mostrar todo en un DataFrame\n"
   ]
  },
  {
   "cell_type": "markdown",
   "metadata": {},
   "source": [
    "Como programaría usando compresión de listas y funciones map, el caso cuando quiero evaluar de una lista de números dada, elevar cada número de dicha lista, a una lista de potencias dadas."
   ]
  },
  {
   "cell_type": "markdown",
   "metadata": {},
   "source": [
    "## - Función filter()\n",
    "\n",
    "La función \n",
    "> `filter(función, secuencia)` \n",
    "\n",
    "ofrece una forma elegante de filtrar todos los elementos de una lista, para lo cual la función de `función` devuelve `True`. \n",
    "La función `filter(f, l)` necesita una función f como primer argumento. `f` devuelve un valor booleano, es decir, verdadero o falso. Esta función se aplicará a cada elemento de la lista `l`. Solo si `f` devuelve True, el elemento de la lista se incluirá en la lista de resultados.\n",
    "\n",
    "**Ejemplo**"
   ]
  },
  {
   "cell_type": "code",
   "execution_count": 79,
   "metadata": {},
   "outputs": [
    {
     "data": {
      "text/plain": [
       "1"
      ]
     },
     "execution_count": 79,
     "metadata": {},
     "output_type": "execute_result"
    }
   ],
   "source": [
    "# Explorar el funcionamiento del método módulo (%)\n",
    "5%2"
   ]
  },
  {
   "cell_type": "code",
   "execution_count": 81,
   "metadata": {},
   "outputs": [
    {
     "name": "stdout",
     "output_type": "stream",
     "text": [
      "Numeros impares de la lista: [1, 1, 3, 5, 13, 21, 55]\n",
      "Numeros pares de la lista: [0, 2, 8, 34]\n"
     ]
    }
   ],
   "source": [
    "fib = [0,1,1,2,3,5,8,13,21,34,55]\n",
    "\n",
    "# Selecciona los números impares de la lista\n",
    "result = list(filter(lambda x: x%2 == 1, fib))\n",
    "print('Numeros impares de la lista:',result)\n",
    "\n",
    "# Selecciona los números pares de la lista\n",
    "result = list(filter(lambda x: x%2 == 0, fib))\n",
    "print('Numeros pares de la lista:',result)\n"
   ]
  },
  {
   "cell_type": "code",
   "execution_count": 83,
   "metadata": {},
   "outputs": [
    {
     "data": {
      "text/plain": [
       "array([ 1,  1,  3,  5, 13, 21, 55])"
      ]
     },
     "execution_count": 83,
     "metadata": {},
     "output_type": "execute_result"
    }
   ],
   "source": [
    "# Replicar los mismo usando vectores\n",
    "fib_a = np.array(fib)\n",
    "fib_a[fib_a%2 == 1]"
   ]
  },
  {
   "attachments": {
    "imagen.png": {
     "image/png": "[encoded data removed]"
    }
   },
   "cell_type": "markdown",
   "metadata": {},
   "source": [
    "## - Función reduce()\n",
    "La función\n",
    "> `reduce(func, secuencia)`\n",
    "\n",
    "continuamente aplica la función `func()` a la `secuencia`. Devuelve un solo valor.\n",
    "\n",
    "Si `secuencia = [s1, s2, s3, ..., sn]`, la llamada de la función `reduce(func, secuencia)` funciona así: \n",
    " \n",
    "   - Al principio, los primeros dos elementos de secuencia se aplicarán a `func`, es decir, `func(s1, s2)`. La lista en la que se trabaja con reduce() se ve así: `[func (s1, s2), s3, ..., sn ] `\n",
    "   - En el siguiente paso, se aplicará func sobre el resultado anterior y el tercer elemento de la lista, es decir, `func (func (s1, s2), s3) `\n",
    "   - La lista se ve así ahora: `[func(func (s1, s2), s3), ..., sn] `\n",
    "   - Continuar así hasta que quede un solo elemento y devolver este elemento como resultado de reduce()\n",
    "\n",
    "![imagen.png](attachment:imagen.png)\n",
    "\n",
    "**Ejemplos**"
   ]
  },
  {
   "cell_type": "code",
   "execution_count": 87,
   "metadata": {
    "scrolled": true
   },
   "outputs": [
    {
     "name": "stdout",
     "output_type": "stream",
     "text": [
      "suma de lista:  113\n",
      "El máximo valor de la lista es: 47\n",
      "El producto de la lista es: 282282\n"
     ]
    }
   ],
   "source": [
    "from functools import reduce\n",
    "lista = [47,11,42,13]\n",
    "\n",
    "# Realiza la suma de los elementos de una lista\n",
    "val = reduce(lambda x, y: x + y, lista)\n",
    "print('suma de lista: ', val)\n",
    "\n",
    "# Determinar el máximo de una lista de valores numéricos \n",
    "f = reduce(lambda x, y: max(x, y), lista)\n",
    "print('El máximo valor de la lista es:', f )\n",
    "\n",
    "# Calcular el producto de una lista \n",
    "val2 = reduce(lambda x, y: x * y, lista)\n",
    "\n",
    "print('El producto de la lista es:', val2)"
   ]
  },
  {
   "cell_type": "code",
   "execution_count": 85,
   "metadata": {},
   "outputs": [
    {
     "data": {
      "text/plain": [
       "78"
      ]
     },
     "execution_count": 85,
     "metadata": {},
     "output_type": "execute_result"
    }
   ],
   "source": [
    "max(13, 78)"
   ]
  },
  {
   "cell_type": "markdown",
   "metadata": {},
   "source": [
    "> Página donde pueden profundizar un poco más acerca de las funciones `map, filter, and reduce` [Enlace](http://www.bogotobogo.com/python/python_fncs_map_filter_reduce.php)"
   ]
  },
  {
   "cell_type": "markdown",
   "metadata": {},
   "source": [
    "## Comparación tiempo de simulación para grandes cantidades de datos \n",
    "\n",
    "Lo que se pretende en este apartado es mostrar la forma mas eficiente de realizar cálculos cuando se tiene gran cantidad de datos. Se comparán las técnicas tales como: ciclos for, paquete numpy, compresión de listas y la función map. Para efectos de simulación se desea comparar los tiempos necesarios para calular el valor del $log_{10}$ para un vector de tamaño $1\\times 10^7$, que contiene valores aleatorios flotantes obtenidos mediante un distribución normal, para las cuatro técnicas mencionadas anteriormente."
   ]
  },
  {
   "cell_type": "code",
   "execution_count": 88,
   "metadata": {},
   "outputs": [
    {
     "name": "stdout",
     "output_type": "stream",
     "text": [
      "Con ciclos for y agregando los resutados toma 2.0193049907684326 segundos\n"
     ]
    }
   ],
   "source": [
    "# Número de muestras\n",
    "import time\n",
    "import math\n",
    "N = 10**7\n",
    "# Lista con valores aleatorios\n",
    "l1 = np.random.normal(50,5,N)\n",
    "speed = []\n",
    "\n",
    "############ Usando ciclo for\n",
    "t1 = time.time()\n",
    "l2 = []\n",
    "for item in l1:\n",
    "    l2.append(math.log10(item))\n",
    "t2 = time.time()\n",
    "print(\"Con ciclos for y agregando los resutados toma {} segundos\".format(t2-t1))\n",
    "speed.append(t2-t1)"
   ]
  },
  {
   "cell_type": "code",
   "execution_count": 89,
   "metadata": {},
   "outputs": [
    {
     "name": "stdout",
     "output_type": "stream",
     "text": [
      "Usando la librería Numpy y el método log10 toma 0.10238385200500488 segundos\n"
     ]
    }
   ],
   "source": [
    "########### Usando numpy\n",
    "t1 = time.time()\n",
    "a2 = np.log10(l1)\n",
    "t2 = time.time()\n",
    "print(\"Usando la librería Numpy y el método log10 toma {} segundos\".format(t2-t1))\n",
    "speed.append(t2-t1)"
   ]
  },
  {
   "cell_type": "code",
   "execution_count": 90,
   "metadata": {},
   "outputs": [
    {
     "name": "stdout",
     "output_type": "stream",
     "text": [
      "Usando compresión de listas toma 1.4573750495910645 segundos\n"
     ]
    }
   ],
   "source": [
    "########### Usando comprensión de listas\n",
    "t1 = time.time()\n",
    "cl = [math.log10(i) for i in l1]\n",
    "t2 = time.time()\n",
    "print(\"Usando compresión de listas toma {} segundos\".format(t2-t1))\n",
    "speed.append(t2-t1)"
   ]
  },
  {
   "cell_type": "code",
   "execution_count": 91,
   "metadata": {},
   "outputs": [
    {
     "name": "stdout",
     "output_type": "stream",
     "text": [
      "Usando la función map para el método log10 toma 1.7069110870361328 segundos\n"
     ]
    }
   ],
   "source": [
    "########### Usando map function \n",
    "t1 = time.time()\n",
    "m1 = list(map(lambda x:math.log10(x),l1))\n",
    "t2 = time.time()\n",
    "print(\"Usando la función map para el método log10 toma {} segundos\".format(t2-t1))\n",
    "speed.append(t2-t1)"
   ]
  },
  {
   "cell_type": "code",
   "execution_count": 92,
   "metadata": {},
   "outputs": [
    {
     "name": "stdout",
     "output_type": "stream",
     "text": [
      "Usando pandas toma 1.784956932067871 segundos\n"
     ]
    }
   ],
   "source": [
    "########### Usando pandas\n",
    "import pandas as pd\n",
    "pandas = pd.Series(l1)\n",
    "\n",
    "t1 = time.time()\n",
    "pandas = pandas.apply(math.log10)\n",
    "t2 = time.time()\n",
    "\n",
    "print(\"Usando pandas toma {} segundos\".format(t2-t1))\n",
    "speed.append(t2-t1)\n",
    "# pandas"
   ]
  },
  {
   "cell_type": "code",
   "execution_count": 93,
   "metadata": {},
   "outputs": [
    {
     "data": {
      "image/png": "[encoded data removed]",
      "text/plain": [
       "<Figure size 900x500 with 1 Axes>"
      ]
     },
     "metadata": {},
     "output_type": "display_data"
    }
   ],
   "source": [
    "ind = np.arange(1, 6)\n",
    "plt.figure(figsize=[9,5])\n",
    "plt.bar(ind, speed)\n",
    "plt.xticks(ind,['Ciclo for', 'Numpy', 'Compresión de\\n listas','Función map', 'Pandas'])\n",
    "plt.ylabel('Tiempo gastado ')\n",
    "plt.show()"
   ]
  },
  {
   "cell_type": "markdown",
   "metadata": {},
   "source": [
    "## Compresión de tuplas y Compresión de diccionarios"
   ]
  },
  {
   "cell_type": "code",
   "execution_count": 99,
   "metadata": {},
   "outputs": [
    {
     "name": "stdout",
     "output_type": "stream",
     "text": [
      "0 1 2 3 4 5 6 7 8 9\n"
     ]
    },
    {
     "data": {
      "text/plain": [
       "{1, 2, 3, 4, 5, 6, 7, 8, 44}"
      ]
     },
     "execution_count": 99,
     "metadata": {},
     "output_type": "execute_result"
    }
   ],
   "source": [
    "diccionarios = {name:i for i, name in enumerate(['Carlos', 'Adriana', 'Pepito'])}\n",
    "diccionarios\n",
    "\n",
    "tuplas = (i for i in range(10))\n",
    "print(*tuplas)\n",
    "\n",
    "conjunto = {i for i in range(10)}\n",
    "conjunto\n",
    "\n",
    "set([1,1,2,3,5,4,4,8,5,6,7,5,44,5])"
   ]
  },
  {
   "cell_type": "markdown",
   "metadata": {},
   "source": [
    "<script>\n",
    "  $(document).ready(function(){\n",
    "    $('div.prompt').hide();\n",
    "    $('div.back-to-top').hide();\n",
    "    $('nav#menubar').hide();\n",
    "    $('.breadcrumb').hide();\n",
    "    $('.hidden-print').hide();\n",
    "  });\n",
    "</script>\n",
    "\n",
    "<footer id=\"attribution\" style=\"float:right; color:#808080; background:#fff;\">\n",
    "Created with Jupyter by Oscar David Jaramillo Zuluaga\n",
    "</footer>"
   ]
  }
 ],
 "metadata": {
  "kernelspec": {
   "display_name": "Python 3 (ipykernel)",
   "language": "python",
   "name": "python3"
  },
  "language_info": {
   "codemirror_mode": {
    "name": "ipython",
    "version": 3
   },
   "file_extension": ".py",
   "mimetype": "text/x-python",
   "name": "python",
   "nbconvert_exporter": "python",
   "pygments_lexer": "ipython3",
   "version": "3.9.18"
  }
 },
 "nbformat": 4,
 "nbformat_minor": 4
}
